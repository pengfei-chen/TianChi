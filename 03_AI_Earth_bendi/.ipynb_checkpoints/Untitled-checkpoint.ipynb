{
 "cells": [
  {
   "cell_type": "code",
   "execution_count": 1,
   "metadata": {},
   "outputs": [],
   "source": [
    "import pandas as pd\n",
    "import numpy  as np\n",
    "import tensorflow as tf\n",
    "from tensorflow.keras.optimizers import Adam\n",
    "import matplotlib.pyplot as plt\n",
    "import scipy \n",
    "from netCDF4 import Dataset\n",
    "import netCDF4 as nc\n",
    "import gc\n",
    "%matplotlib inline"
   ]
  },
  {
   "cell_type": "markdown",
   "metadata": {},
   "source": [
    "标签数据为Nino3.4 SST异常指数，数据维度为（year,month）。\n",
    "\n",
    "CMIP(SODA)_train.nc对应的标签数据当前时刻Nino3.4 SST异常指数的三个月滑动平均值，因此数据维度与维度介绍同训练数据一致\n",
    "\n",
    "注：三个月滑动平均值为当前月与未来两个月的平均值。"
   ]
  },
  {
   "cell_type": "markdown",
   "metadata": {},
   "source": [
    "### 将标签转化为我们熟悉的pandas形式"
   ]
  },
  {
   "cell_type": "code",
   "execution_count": 8,
   "metadata": {},
   "outputs": [],
   "source": [
    "label_path       = r'D:\\ProgramData\\DockerDesktop\\AI_Earth\\tcdata\\enso_round1_train_20210201\\SODA_label.nc'\n",
    "\n",
    "label_trans_path = r'D:\\ProgramData\\DockerDesktop\\AI_Earth\\tcdata\\enso_round1_train_20210201'\n",
    "\n",
    "nc_label = Dataset(label_path,'r')\n",
    " \n",
    "# nc_label\n",
    "\n",
    "years            = np.array(nc_label['year'][:])\n",
    "months           = np.array(nc_label['month'][:])\n",
    "# years,months\n",
    "\n",
    "year_month_index = []\n",
    "vs               = []\n",
    "for i,year in enumerate(years):\n",
    "    for j,month in enumerate(months):\n",
    "        year_month_index.append('year_{}_month_{}'.format(year,month))\n",
    "        vs.append(np.array(nc_label['nino'][i,j]))\n",
    "\n",
    "df_SODA_label               = pd.DataFrame({'year_month':year_month_index}) \n",
    "df_SODA_label['year_month'] = year_month_index\n",
    "df_SODA_label['label']      = vs\n"
   ]
  },
  {
   "cell_type": "code",
   "execution_count": 19,
   "metadata": {},
   "outputs": [],
   "source": [
    "df_SODA_label.to_csv(label_trans_path + r'\\df_SODA_label.csv',index = None)"
   ]
  },
  {
   "cell_type": "code",
   "execution_count": 13,
   "metadata": {},
   "outputs": [
    {
     "data": {
      "text/html": [
       "<div>\n",
       "<style scoped>\n",
       "    .dataframe tbody tr th:only-of-type {\n",
       "        vertical-align: middle;\n",
       "    }\n",
       "\n",
       "    .dataframe tbody tr th {\n",
       "        vertical-align: top;\n",
       "    }\n",
       "\n",
       "    .dataframe thead th {\n",
       "        text-align: right;\n",
       "    }\n",
       "</style>\n",
       "<table border=\"1\" class=\"dataframe\">\n",
       "  <thead>\n",
       "    <tr style=\"text-align: right;\">\n",
       "      <th></th>\n",
       "      <th>year_month</th>\n",
       "      <th>label</th>\n",
       "    </tr>\n",
       "  </thead>\n",
       "  <tbody>\n",
       "    <tr>\n",
       "      <th>0</th>\n",
       "      <td>year_1_month_1</td>\n",
       "      <td>-0.40720701217651367</td>\n",
       "    </tr>\n",
       "    <tr>\n",
       "      <th>1</th>\n",
       "      <td>year_1_month_2</td>\n",
       "      <td>-0.20244435966014862</td>\n",
       "    </tr>\n",
       "    <tr>\n",
       "      <th>2</th>\n",
       "      <td>year_1_month_3</td>\n",
       "      <td>-0.10386104136705399</td>\n",
       "    </tr>\n",
       "    <tr>\n",
       "      <th>3</th>\n",
       "      <td>year_1_month_4</td>\n",
       "      <td>-0.02910841442644596</td>\n",
       "    </tr>\n",
       "    <tr>\n",
       "      <th>4</th>\n",
       "      <td>year_1_month_5</td>\n",
       "      <td>-0.13252995908260345</td>\n",
       "    </tr>\n",
       "  </tbody>\n",
       "</table>\n",
       "</div>"
      ],
      "text/plain": [
       "       year_month                 label\n",
       "0  year_1_month_1  -0.40720701217651367\n",
       "1  year_1_month_2  -0.20244435966014862\n",
       "2  year_1_month_3  -0.10386104136705399\n",
       "3  year_1_month_4  -0.02910841442644596\n",
       "4  year_1_month_5  -0.13252995908260345"
      ]
     },
     "execution_count": 13,
     "metadata": {},
     "output_type": "execute_result"
    }
   ],
   "source": [
    "df_SODA_label.head()"
   ]
  },
  {
   "cell_type": "code",
   "execution_count": 14,
   "metadata": {},
   "outputs": [],
   "source": [
    "df_label = df_SODA_label.copy()"
   ]
  },
  {
   "cell_type": "markdown",
   "metadata": {},
   "source": [
    "###  2.数据格式转化"
   ]
  },
  {
   "cell_type": "markdown",
   "metadata": {},
   "source": [
    "#### 2.1 SODA_train处理"
   ]
  },
  {
   "cell_type": "markdown",
   "metadata": {},
   "source": [
    "SODA_train.nc中[0,0:36,:,:]为第1-第3年逐月的历史观测数据；\n",
    "\n",
    "SODA_train.nc中[1,0:36,:,:]为第2-第4年逐月的历史观测数据；\n",
    "…,\n",
    "\n",
    "SODA_train.nc中[99,0:36,:,:]为第100-102年逐月的历史观测数据。"
   ]
  },
  {
   "cell_type": "code",
   "execution_count": 15,
   "metadata": {},
   "outputs": [],
   "source": [
    "SODA_path        =  r'D:\\ProgramData\\DockerDesktop\\AI_Earth\\tcdata\\enso_round1_train_20210201\\SODA_train.nc'\n",
    "nc_SODA          =  Dataset(SODA_path,'r')\n",
    "\n",
    "# 自定义抽取对应数据&转化为df的形式；\n",
    "# index为年月; columns为lat和lon的组合\n",
    "\n",
    "def trans_df(df, vals, lats, lons, years, months):\n",
    "    '''\n",
    "        (100, 36, 24, 72) -- year, month,lat,lon \n",
    "    '''\n",
    "    for j,lat_ in enumerate(lats):\n",
    "        for i,lon_ in enumerate(lons):\n",
    "            c = 'lat_lon_{}_{}'.format(int(lat_),int(lon_))  \n",
    "            v = []\n",
    "            for y in range(len(years)):\n",
    "                for m in range(len(months)): \n",
    "                    v.append(vals[y,m,j,i])\n",
    "            df[c] = v\n",
    "    return df\n",
    "\n",
    "year_month_index = []\n",
    "\n",
    "years           = np.array(nc_SODA['year'][:])\n",
    "months          = np.array(nc_SODA['month'][:])\n",
    "lats            = np.array(nc_SODA['lat'][:])\n",
    "lons            = np.array(nc_SODA['lon'][:])\n",
    "\n",
    "for year in years:\n",
    "    for month in months:\n",
    "        year_month_index.append('year_{}_month_{}'.format(year,month))\n",
    "\n",
    "df_sst  = pd.DataFrame({'year_month':year_month_index}) \n",
    "df_t300 = pd.DataFrame({'year_month':year_month_index}) \n",
    "df_ua   = pd.DataFrame({'year_month':year_month_index}) \n",
    "df_va   = pd.DataFrame({'year_month':year_month_index})\n"
   ]
  },
  {
   "cell_type": "code",
   "execution_count": 16,
   "metadata": {},
   "outputs": [
    {
     "name": "stdout",
     "output_type": "stream",
     "text": [
      "Wall time: 41.5 s\n"
     ]
    }
   ],
   "source": [
    "%%time\n",
    "df_sst = trans_df(df = df_sst, vals = np.array(nc_SODA['sst'][:]), lats = lats, lons = lons, years = years, months = months)\n",
    "df_t300 = trans_df(df = df_t300, vals = np.array(nc_SODA['t300'][:]), lats = lats, lons = lons, years = years, months = months)\n",
    "df_ua   = trans_df(df = df_ua, vals = np.array(nc_SODA['ua'][:]), lats = lats, lons = lons, years = years, months = months)\n",
    "df_va   = trans_df(df = df_va, vals = np.array(nc_SODA['va'][:]), lats = lats, lons = lons, years = years, months = months)"
   ]
  },
  {
   "cell_type": "code",
   "execution_count": 18,
   "metadata": {},
   "outputs": [
    {
     "data": {
      "text/plain": [
       "'D:\\\\ProgramData\\\\DockerDesktop\\\\AI_Earth\\\\tcdata\\\\enso_round1_train_20210201'"
      ]
     },
     "execution_count": 18,
     "metadata": {},
     "output_type": "execute_result"
    }
   ],
   "source": [
    "label_trans_path"
   ]
  },
  {
   "cell_type": "code",
   "execution_count": 20,
   "metadata": {},
   "outputs": [],
   "source": [
    "df_sst.to_csv(label_trans_path  + r'\\df_sst_SODA.csv',index = None)\n",
    "df_t300.to_csv(label_trans_path + r'\\df_t300_SODA.csv',index = None)\n",
    "df_ua.to_csv(label_trans_path   + r'\\df_ua_SODA.csv',index = None)\n",
    "df_va.to_csv(label_trans_path   + r'\\df_va_SODA.csv',index = None)"
   ]
  },
  {
   "cell_type": "markdown",
   "metadata": {},
   "source": [
    "####  2.2 CMIP_label处理"
   ]
  },
  {
   "cell_type": "code",
   "execution_count": 21,
   "metadata": {},
   "outputs": [],
   "source": [
    "label_path       = r'D:\\ProgramData\\DockerDesktop\\AI_Earth\\tcdata\\enso_round1_train_20210201\\CMIP_label.nc'\n",
    "label_trans_path = r'D:\\ProgramData\\DockerDesktop\\AI_Earth\\tcdata\\enso_round1_train_20210201'\n",
    "nc_label         = Dataset(label_path,'r')\n",
    " \n",
    "years            = np.array(nc_label['year'][:])\n",
    "months           = np.array(nc_label['month'][:])\n",
    "\n",
    "year_month_index = []\n",
    "vs               = []\n",
    "for i,year in enumerate(years):\n",
    "    for j,month in enumerate(months):\n",
    "        year_month_index.append('year_{}_month_{}'.format(year,month))\n",
    "        vs.append(np.array(nc_label['nino'][i,j]))\n",
    "\n",
    "df_CMIP_label               = pd.DataFrame({'year_month':year_month_index}) \n",
    "df_CMIP_label['year_month'] = year_month_index\n",
    "df_CMIP_label['label']      = vs\n",
    "\n",
    "df_CMIP_label.to_csv(label_trans_path + r'\\df_CMIP_label.csv',index = None)"
   ]
  },
  {
   "cell_type": "code",
   "execution_count": 22,
   "metadata": {},
   "outputs": [
    {
     "data": {
      "text/html": [
       "<div>\n",
       "<style scoped>\n",
       "    .dataframe tbody tr th:only-of-type {\n",
       "        vertical-align: middle;\n",
       "    }\n",
       "\n",
       "    .dataframe tbody tr th {\n",
       "        vertical-align: top;\n",
       "    }\n",
       "\n",
       "    .dataframe thead th {\n",
       "        text-align: right;\n",
       "    }\n",
       "</style>\n",
       "<table border=\"1\" class=\"dataframe\">\n",
       "  <thead>\n",
       "    <tr style=\"text-align: right;\">\n",
       "      <th></th>\n",
       "      <th>year_month</th>\n",
       "      <th>label</th>\n",
       "    </tr>\n",
       "  </thead>\n",
       "  <tbody>\n",
       "    <tr>\n",
       "      <th>0</th>\n",
       "      <td>year_1_month_1</td>\n",
       "      <td>-0.26102548837661743</td>\n",
       "    </tr>\n",
       "    <tr>\n",
       "      <th>1</th>\n",
       "      <td>year_1_month_2</td>\n",
       "      <td>-0.1332537680864334</td>\n",
       "    </tr>\n",
       "    <tr>\n",
       "      <th>2</th>\n",
       "      <td>year_1_month_3</td>\n",
       "      <td>-0.014831557869911194</td>\n",
       "    </tr>\n",
       "    <tr>\n",
       "      <th>3</th>\n",
       "      <td>year_1_month_4</td>\n",
       "      <td>0.10506672412157059</td>\n",
       "    </tr>\n",
       "    <tr>\n",
       "      <th>4</th>\n",
       "      <td>year_1_month_5</td>\n",
       "      <td>0.24070978164672852</td>\n",
       "    </tr>\n",
       "  </tbody>\n",
       "</table>\n",
       "</div>"
      ],
      "text/plain": [
       "       year_month                  label\n",
       "0  year_1_month_1   -0.26102548837661743\n",
       "1  year_1_month_2    -0.1332537680864334\n",
       "2  year_1_month_3  -0.014831557869911194\n",
       "3  year_1_month_4    0.10506672412157059\n",
       "4  year_1_month_5    0.24070978164672852"
      ]
     },
     "execution_count": 22,
     "metadata": {},
     "output_type": "execute_result"
    }
   ],
   "source": [
    "df_CMIP_label.head()"
   ]
  },
  {
   "cell_type": "markdown",
   "metadata": {},
   "source": [
    "###  2.3 CMIP_train处理"
   ]
  },
  {
   "cell_type": "markdown",
   "metadata": {},
   "source": [
    "CMIP_train.nc中[0,0:36,:,:]为CMIP6第一个模式提供的第1-第3年逐月的历史模拟数据；\n",
    "…,\n",
    "\n",
    "CMIP_train.nc中[150,0:36,:,:]为CMIP6第一个模式提供的第151-第153年逐月的历史模拟数据；\n",
    "\n",
    "CMIP_train.nc中[151,0:36,:,:]为CMIP6第二个模式提供的第1-第3年逐月的历史模拟数据；\n",
    "…,\n",
    "\n",
    "CMIP_train.nc中[2265,0:36,:,:]为CMIP5第一个模式提供的第1-第3年逐月的历史模拟数据；\n",
    "…,\n",
    "\n",
    "CMIP_train.nc中[2405,0:36,:,:]为CMIP5第二个模式提供的第1-第3年逐月的历史模拟数据；\n",
    "…,\n",
    "\n",
    "CMIP_train.nc中[4644,0:36,:,:]为CMIP5第17个模式提供的第140-第142年逐月的历史模拟数据。\n",
    "\n",
    "其中每个样本第三、第四维度分别代表经纬度（南纬55度北纬60度，东经0360度），所有数据的经纬度范围相同。"
   ]
  },
  {
   "cell_type": "code",
   "execution_count": 23,
   "metadata": {},
   "outputs": [],
   "source": [
    "CMIP_path       = r'D:\\ProgramData\\DockerDesktop\\AI_Earth\\tcdata\\enso_round1_train_20210201\\CMIP_train.nc'\n",
    "CMIP_trans_path = r'D:\\ProgramData\\DockerDesktop\\AI_Earth\\tcdata\\enso_round1_train_20210201'\n",
    "nc_CMIP  = Dataset(CMIP_path,'r')"
   ]
  },
  {
   "cell_type": "code",
   "execution_count": 26,
   "metadata": {},
   "outputs": [
    {
     "data": {
      "text/plain": [
       "dict_keys(['sst', 't300', 'ua', 'va', 'year', 'month', 'lat', 'lon'])"
      ]
     },
     "execution_count": 26,
     "metadata": {},
     "output_type": "execute_result"
    }
   ],
   "source": [
    "nc_CMIP.variables.keys()"
   ]
  },
  {
   "cell_type": "code",
   "execution_count": 27,
   "metadata": {},
   "outputs": [
    {
     "data": {
      "text/plain": [
       "(4645, 36, 24, 72)"
      ]
     },
     "execution_count": 27,
     "metadata": {},
     "output_type": "execute_result"
    }
   ],
   "source": [
    "nc_CMIP['t300'][:].shape"
   ]
  },
  {
   "cell_type": "code",
   "execution_count": 28,
   "metadata": {},
   "outputs": [],
   "source": [
    "year_month_index = []\n",
    "\n",
    "years              = np.array(nc_CMIP['year'][:])\n",
    "months             = np.array(nc_CMIP['month'][:])\n",
    "lats               = np.array(nc_CMIP['lat'][:])\n",
    "lons               = np.array(nc_CMIP['lon'][:])\n",
    "\n",
    "last_thre_years = 1000\n",
    "for year in years:\n",
    "    '''\n",
    "        数据的原因，我们\n",
    "    '''\n",
    "    if year >= 4645 - last_thre_years:\n",
    "        for month in months:\n",
    "            year_month_index.append('year_{}_month_{}'.format(year,month))\n",
    "\n",
    "df_CMIP_sst  = pd.DataFrame({'year_month':year_month_index}) \n",
    "df_CMIP_t300 = pd.DataFrame({'year_month':year_month_index}) \n",
    "df_CMIP_ua   = pd.DataFrame({'year_month':year_month_index}) \n",
    "df_CMIP_va   = pd.DataFrame({'year_month':year_month_index})"
   ]
  },
  {
   "cell_type": "markdown",
   "metadata": {},
   "source": [
    "#####  因为内存限制,我们暂时取最后1000个year的数据"
   ]
  },
  {
   "cell_type": "code",
   "execution_count": 30,
   "metadata": {},
   "outputs": [],
   "source": [
    "def trans_thre_df(df, vals, lats, lons, years, months, last_thre_years = 1000):\n",
    "    '''\n",
    "        (4645, 36, 24, 72) -- year, month,lat,lon \n",
    "    '''\n",
    "    for j,lat_ in (enumerate(lats)):\n",
    "#         print(j)\n",
    "        for i,lon_ in enumerate(lons):\n",
    "            c = 'lat_lon_{}_{}'.format(int(lat_),int(lon_))  \n",
    "            v = []\n",
    "            for y_,y in enumerate(years):\n",
    "                '''\n",
    "                    数据的原因，我们\n",
    "                '''\n",
    "                if y >= 4645 - last_thre_years:\n",
    "                    for m_,m in  enumerate(months): \n",
    "                        v.append(vals[y_,m_,j,i])\n",
    "            df[c] = v\n",
    "    return df\n"
   ]
  },
  {
   "cell_type": "code",
   "execution_count": 31,
   "metadata": {},
   "outputs": [
    {
     "name": "stdout",
     "output_type": "stream",
     "text": [
      "Wall time: 21min 5s\n"
     ]
    },
    {
     "data": {
      "text/plain": [
       "0"
      ]
     },
     "execution_count": 31,
     "metadata": {},
     "output_type": "execute_result"
    }
   ],
   "source": [
    "%%time\n",
    "df_CMIP_sst  = trans_thre_df(df = df_CMIP_sst,  vals   = np.array(nc_CMIP['sst'][:]),  lats = lats, lons = lons, years = years, months = months)\n",
    "df_CMIP_sst.to_csv(CMIP_trans_path + r'\\df_CMIP_sst.csv',index = None)\n",
    "del df_CMIP_sst\n",
    "gc.collect()r\n",
    "\n",
    "df_CMIP_t300 = trans_thre_df(df = df_CMIP_t300, vals   = np.array(nc_CMIP['t300'][:]), lats = lats, lons = lons, years = years, months = months)\n",
    "df_CMIP_t300.to_csv(CMIP_trans_path + r'\\df_CMIP_t300.csv',index = None)\n",
    "del df_CMIP_t300\n",
    "gc.collect()\n",
    "\n",
    "df_CMIP_ua   = trans_thre_df(df = df_CMIP_ua,   vals   = np.array(nc_CMIP['ua'][:]),   lats = lats, lons = lons, years = years, months = months)\n",
    "df_CMIP_ua.to_csv(CMIP_trans_path + r'\\df_CMIP_ua.csv',index = None)\n",
    "del df_CMIP_ua\n",
    "gc.collect()\n",
    "\n",
    "df_CMIP_va   = trans_thre_df(df = df_CMIP_va,   vals   = np.array(nc_CMIP['va'][:]),   lats = lats, lons = lons, years = years, months = months)\n",
    "df_CMIP_va.to_csv(CMIP_trans_path + r'\\df_CMIP_va.csv',index = None)\n",
    "del df_CMIP_va\n",
    "gc.collect()\n",
    "\n",
    "# (36036, 1729)"
   ]
  },
  {
   "cell_type": "markdown",
   "metadata": {},
   "source": [
    "### 数据建模"
   ]
  },
  {
   "cell_type": "markdown",
   "metadata": {},
   "source": [
    "工具包导入&数据读取\n",
    "1. 工具包导入"
   ]
  },
  {
   "cell_type": "code",
   "execution_count": 32,
   "metadata": {},
   "outputs": [],
   "source": [
    "import pandas as pd\n",
    "import numpy  as np\n",
    "import tensorflow as tf\n",
    "from tensorflow.keras.optimizers import Adam\n",
    "import matplotlib.pyplot as plt\n",
    "import scipy \n",
    "import joblib\n",
    "from netCDF4 import Dataset\n",
    "import netCDF4 as nc \n",
    "from tensorflow.keras.callbacks import LearningRateScheduler, Callback\n",
    "import tensorflow.keras.backend as K\n",
    "from tensorflow.keras.layers import *\n",
    "from tensorflow.keras.models import *\n",
    "from tensorflow.keras.optimizers import *\n",
    "from tensorflow.keras.callbacks import *\n",
    "from tensorflow.keras.layers import Input \n",
    "import gc\n",
    "%matplotlib inline"
   ]
  },
  {
   "cell_type": "markdown",
   "metadata": {},
   "source": [
    "2. 数据读取\n",
    "\n",
    "SODA_label处理"
   ]
  },
  {
   "cell_type": "markdown",
   "metadata": {},
   "source": [
    "1.标签"
   ]
  },
  {
   "cell_type": "code",
   "execution_count": 33,
   "metadata": {},
   "outputs": [],
   "source": [
    "label_path       = r'D:\\ProgramData\\DockerDesktop\\AI_Earth\\tcdata\\enso_round1_train_20210201\\SODA_label.nc'\n",
    "nc_label         = Dataset(label_path,'r')\n",
    "tr_nc_labels     = nc_label['nino'][:]"
   ]
  },
  {
   "cell_type": "markdown",
   "metadata": {},
   "source": [
    "2. 原始特征数据读取"
   ]
  },
  {
   "cell_type": "code",
   "execution_count": 34,
   "metadata": {},
   "outputs": [],
   "source": [
    "SODA_path        = r'D:\\ProgramData\\DockerDesktop\\AI_Earth\\tcdata\\enso_round1_train_20210201\\SODA_train.nc'\n",
    "nc_SODA          = Dataset(SODA_path,'r') \n",
    "\n",
    "nc_sst           = np.array(nc_SODA['sst'][:])\n",
    "nc_t300          = np.array(nc_SODA['t300'][:])\n",
    "nc_ua            = np.array(nc_SODA['ua'][:])\n",
    "nc_va            = np.array(nc_SODA['va'][:])"
   ]
  },
  {
   "cell_type": "markdown",
   "metadata": {},
   "source": [
    "####  模型构建"
   ]
  },
  {
   "cell_type": "markdown",
   "metadata": {},
   "source": [
    "#####  1. 神经网络框架"
   ]
  },
  {
   "cell_type": "code",
   "execution_count": 35,
   "metadata": {},
   "outputs": [],
   "source": [
    "def RMSE(y_true, y_pred):\n",
    "    return tf.sqrt(tf.reduce_mean(tf.square(y_true - y_pred)))\n",
    "\n",
    "def RMSE_fn(y_true, y_pred):\n",
    "    return np.sqrt(np.mean(np.power(np.array(y_true, float).reshape(-1, 1) - np.array(y_pred, float).reshape(-1, 1), 2)))\n",
    "\n",
    "def build_model():\n",
    "    inp    = Input(shape=(12,24,72,4))  \n",
    "    \n",
    "    x_4    = Dense(1, activation='relu')(inp)   \n",
    "    x_3    = Dense(1, activation='relu')(tf.reshape(x_4,[-1,12,24,72]))\n",
    "    x_2    = Dense(1, activation='relu')(tf.reshape(x_3,[-1,12,24]))\n",
    "    x_1    = Dense(1, activation='relu')(tf.reshape(x_2,[-1,12]))\n",
    "     \n",
    "    x = Dense(64, activation='relu')(x_1)  \n",
    "    x = Dropout(0.25)(x) \n",
    "    x = Dense(32, activation='relu')(x)   \n",
    "    x = Dropout(0.25)(x)  \n",
    "    output = Dense(24, activation='linear')(x)   \n",
    "    model  = Model(inputs=inp, outputs=output)\n",
    "\n",
    "    adam = tf.optimizers.Adam(lr=1e-3,beta_1=0.99,beta_2 = 0.99) \n",
    "    model.compile(optimizer=adam, loss=RMSE)\n",
    "\n",
    "    return model"
   ]
  },
  {
   "cell_type": "markdown",
   "metadata": {},
   "source": [
    "#####  2. 训练集验证集划分"
   ]
  },
  {
   "cell_type": "code",
   "execution_count": 36,
   "metadata": {},
   "outputs": [],
   "source": [
    "### 训练特征，保证和训练集一致\n",
    "tr_features = np.concatenate([nc_sst[:,:12,:,:].reshape(-1,12,24,72,1),nc_t300[:,:12,:,:].reshape(-1,12,24,72,1),\\\n",
    "                              nc_ua[:,:12,:,:].reshape(-1,12,24,72,1),nc_va[:,:12,:,:].reshape(-1,12,24,72,1)],axis=-1)\n",
    "\n",
    "### 训练标签，取后24个\n",
    "tr_labels = tr_nc_labels[:,12:] \n",
    "\n",
    "### 训练集验证集划分\n",
    "tr_len     = int(tr_features.shape[0] * 0.8)\n",
    "tr_fea     = tr_features[:tr_len,:].copy()\n",
    "tr_label   = tr_labels[:tr_len,:].copy()\n",
    " \n",
    "val_fea     = tr_features[tr_len:,:].copy()\n",
    "val_label   = tr_labels[tr_len:,:].copy()"
   ]
  },
  {
   "cell_type": "markdown",
   "metadata": {},
   "source": [
    "##### 3. 模型训练"
   ]
  },
  {
   "cell_type": "code",
   "execution_count": 45,
   "metadata": {},
   "outputs": [
    {
     "name": "stdout",
     "output_type": "stream",
     "text": [
      "Epoch 1/200\n",
      "1/1 - 0s - loss: 0.8113 - val_loss: 0.6686\n",
      "Epoch 2/200\n",
      "1/1 - 0s - loss: 0.8112 - val_loss: 0.6689\n",
      "Epoch 3/200\n",
      "1/1 - 0s - loss: 0.8112 - val_loss: 0.6691\n",
      "Epoch 4/200\n",
      "1/1 - 0s - loss: 0.8112 - val_loss: 0.6693\n",
      "Epoch 5/200\n",
      "1/1 - 0s - loss: 0.8111 - val_loss: 0.6696\n",
      "Epoch 6/200\n",
      "\n",
      "Epoch 00006: ReduceLROnPlateau reducing learning rate to 0.0005000000237487257.\n",
      "1/1 - 0s - loss: 0.8111 - val_loss: 0.6698\n",
      "Epoch 7/200\n",
      "1/1 - 0s - loss: 0.8110 - val_loss: 0.6699\n",
      "Epoch 8/200\n",
      "1/1 - 0s - loss: 0.8110 - val_loss: 0.6701\n",
      "Epoch 9/200\n",
      "1/1 - 0s - loss: 0.8110 - val_loss: 0.6702\n",
      "Epoch 10/200\n",
      "1/1 - 0s - loss: 0.8110 - val_loss: 0.6703\n",
      "Epoch 11/200\n",
      "\n",
      "Epoch 00011: ReduceLROnPlateau reducing learning rate to 0.0002500000118743628.\n",
      "1/1 - 0s - loss: 0.8110 - val_loss: 0.6704\n",
      "Epoch 12/200\n",
      "1/1 - 0s - loss: 0.8109 - val_loss: 0.6705\n",
      "Epoch 13/200\n",
      "1/1 - 0s - loss: 0.8109 - val_loss: 0.6706\n",
      "Epoch 14/200\n",
      "1/1 - 0s - loss: 0.8109 - val_loss: 0.6706\n",
      "Epoch 15/200\n",
      "1/1 - 0s - loss: 0.8109 - val_loss: 0.6707\n",
      "Epoch 16/200\n",
      "\n",
      "Epoch 00016: ReduceLROnPlateau reducing learning rate to 0.0001250000059371814.\n",
      "1/1 - 0s - loss: 0.8109 - val_loss: 0.6707\n",
      "Epoch 17/200\n",
      "1/1 - 0s - loss: 0.8109 - val_loss: 0.6708\n",
      "Epoch 18/200\n",
      "1/1 - 0s - loss: 0.8109 - val_loss: 0.6708\n",
      "Epoch 19/200\n",
      "1/1 - 0s - loss: 0.8109 - val_loss: 0.6708\n",
      "Epoch 20/200\n",
      "1/1 - 0s - loss: 0.8109 - val_loss: 0.6709\n",
      "Epoch 21/200\n",
      "\n",
      "Epoch 00021: ReduceLROnPlateau reducing learning rate to 6.25000029685907e-05.\n",
      "1/1 - 0s - loss: 0.8109 - val_loss: 0.6709\n"
     ]
    }
   ],
   "source": [
    "#### 构建模型\n",
    "model_mlp     = build_model()\n",
    "#### 模型存储的位置\n",
    "model_weights = r'D:\\ProgramData\\DockerDesktop\\AI_Earth\\model_baseline\\model_mlp_baseline.h5'\n",
    "\n",
    "checkpoint = ModelCheckpoint(model_weights, monitor='val_loss', verbose=0, save_best_only=True, mode='min',\n",
    "                             save_weights_only=True)\n",
    "\n",
    "plateau        = ReduceLROnPlateau(monitor='val_loss', factor=0.5, patience=5, verbose=1, min_delta=1e-4, mode='min')\n",
    "early_stopping = EarlyStopping(monitor=\"val_loss\", patience=20)\n",
    "history        = model_mlp.fit(tr_fea, tr_label,\n",
    "                    validation_data=(val_fea, val_label),\n",
    "                    batch_size=4096, epochs=200,\n",
    "                    callbacks=[plateau, checkpoint, early_stopping],\n",
    "                    verbose=2)"
   ]
  },
  {
   "cell_type": "markdown",
   "metadata": {},
   "source": [
    "#####  4. 模型预测"
   ]
  },
  {
   "cell_type": "code",
   "execution_count": 38,
   "metadata": {},
   "outputs": [],
   "source": [
    "prediction = model_mlp.predict(val_fea)"
   ]
  },
  {
   "cell_type": "markdown",
   "metadata": {},
   "source": [
    "#####  5. Metrics"
   ]
  },
  {
   "cell_type": "code",
   "execution_count": 41,
   "metadata": {},
   "outputs": [],
   "source": [
    "from   sklearn.metrics import mean_squared_error\n",
    "def rmse(y_true, y_preds):\n",
    "    return np.sqrt(mean_squared_error(y_pred = y_preds, y_true = y_true))\n",
    "\n",
    "def score(y_true, y_preds):\n",
    "    accskill_score = 0\n",
    "    rmse_scores    = 0\n",
    "    a = [1.5] * 4 + [2] * 7 + [3] * 7 + [4] * 6\n",
    "    y_true_mean = np.mean(y_true,axis=0) \n",
    "    y_pred_mean = np.mean(y_preds,axis=0) \n",
    "#     print(y_true_mean.shape, y_pred_mean.shape)\n",
    "\n",
    "    for i in range(24): \n",
    "        fenzi = np.sum((y_true[:,i] -  y_true_mean[i]) *(y_preds[:,i] -  y_pred_mean[i]) ) \n",
    "        fenmu = np.sqrt(np.sum((y_true[:,i] -  y_true_mean[i])**2) * np.sum((y_preds[:,i] -  y_pred_mean[i])**2) ) \n",
    "        cor_i = fenzi / fenmu\n",
    "    \n",
    "        accskill_score += a[i] * np.log(i+1) * cor_i\n",
    "        rmse_score   = rmse(y_true[:,i], y_preds[:,i])\n",
    "#         print(cor_i,  2 / 3.0 * a[i] * np.log(i+1) * cor_i - rmse_score)\n",
    "        rmse_scores += rmse_score \n",
    "    \n",
    "    return 2 / 3.0 * accskill_score - rmse_scores"
   ]
  },
  {
   "cell_type": "code",
   "execution_count": 42,
   "metadata": {},
   "outputs": [
    {
     "name": "stdout",
     "output_type": "stream",
     "text": [
      "score -17.731464796917173\n"
     ]
    }
   ],
   "source": [
    "print('score', score(y_true = val_label, y_preds = prediction))"
   ]
  },
  {
   "cell_type": "markdown",
   "metadata": {},
   "source": [
    "### 三、模型预测\n",
    "在上面的部分，我们已经训练好了模型，接下来就是提交模型并在线上进行预测，这块可以分为三步：\n",
    "\n",
    "导入模型；\n",
    "\n",
    "读取测试数据并且进行预测；\n",
    "\n",
    "生成提交所需的版本；"
   ]
  },
  {
   "cell_type": "markdown",
   "metadata": {},
   "source": [
    "####  导入模型；"
   ]
  },
  {
   "cell_type": "code",
   "execution_count": 73,
   "metadata": {},
   "outputs": [],
   "source": [
    "import tensorflow as tf\n",
    "import tensorflow.keras.backend as K\n",
    "from tensorflow.keras.layers import *\n",
    "from tensorflow.keras.models import *\n",
    "from tensorflow.keras.optimizers import *\n",
    "from tensorflow.keras.callbacks import *\n",
    "from tensorflow.keras.layers import Input \n",
    "import numpy as np\n",
    "import os\n",
    "import zipfile\n",
    "\n",
    "\n",
    "def RMSE(y_true, y_pred):\n",
    "    return tf.sqrt(tf.reduce_mean(tf.square(y_true - y_pred)))\n",
    "\n",
    "def build_model():\n",
    "    inp    = Input(shape=(12,24,72,4))      \n",
    "    x_4    = Dense(1, activation='relu')(inp)   \n",
    "    x_3    = Dense(1, activation='relu')(tf.reshape(x_4,[-1,12,24,72]))\n",
    "    x_2    = Dense(1, activation='relu')(tf.reshape(x_3,[-1,12,24]))\n",
    "    x_1    = Dense(1, activation='relu')(tf.reshape(x_2,[-1,12]))     \n",
    "    x = Dense(64, activation='relu')(x_1)  \n",
    "    x = Dropout(0.25)(x) \n",
    "    x = Dense(32, activation='relu')(x)   \n",
    "    x = Dropout(0.25)(x)  \n",
    "    output = Dense(24, activation='linear')(x)   \n",
    "    model  = Model(inputs=inp, outputs=output)\n",
    "    adam = tf.optimizers.Adam(lr=1e-3,beta_1=0.99,beta_2 = 0.99) \n",
    "    model.compile(optimizer=adam, loss=RMSE)\n",
    "    return model \n",
    "model = build_model()\n",
    "model.load_weights(r'D:\\ProgramData\\DockerDesktop\\AI_Earth\\model_baseline\\model_mlp_baseline.h5')"
   ]
  },
  {
   "cell_type": "code",
   "execution_count": 93,
   "metadata": {},
   "outputs": [],
   "source": [
    "model.predict??"
   ]
  },
  {
   "cell_type": "code",
   "execution_count": 75,
   "metadata": {},
   "outputs": [],
   "source": [
    "np.load??"
   ]
  },
  {
   "cell_type": "markdown",
   "metadata": {},
   "source": [
    "#####  模型预测"
   ]
  },
  {
   "cell_type": "code",
   "execution_count": 85,
   "metadata": {
    "collapsed": true
   },
   "outputs": [
    {
     "data": {
      "text/plain": [
       "{'test_0144-01-12.npy': array([[[[-3.44210505e-01, -2.24182129e-01, -4.00703907e-01,\n",
       "           -5.97441196e-02],\n",
       "          [-1.67894721e-01, -2.28698730e-01,  2.10080147e-01,\n",
       "            5.16162276e-01],\n",
       "          [-9.73683596e-03, -9.24682617e-03,  2.14095116e-01,\n",
       "            1.23571122e+00],\n",
       "          ...,\n",
       "          [-7.77368426e-01, -9.93469238e-01, -1.56477785e+00,\n",
       "           -9.48519111e-01],\n",
       "          [-7.09999979e-01, -1.02563477e+00, -1.48069048e+00,\n",
       "           -4.26711917e-01],\n",
       "          [-3.71315777e-01, -3.82598877e-01, -1.03174925e+00,\n",
       "           -3.17178726e-01]],\n",
       " \n",
       "         [[-4.65789557e-01, -8.25225830e-01, -8.86224270e-01,\n",
       "           -1.76634550e-01],\n",
       "          [-5.34210443e-01, -1.14566040e+00, -8.27517509e-01,\n",
       "            7.93753505e-01],\n",
       "          [-4.45526361e-01, -1.44445801e+00, -3.04608345e-01,\n",
       "            1.31416023e+00],\n",
       "          ...,\n",
       "          [-6.66315794e-01, -6.27410889e-01, -9.73136902e-01,\n",
       "           -3.89593363e-01],\n",
       "          [-6.23157978e-01, -6.60949707e-01, -7.08252907e-01,\n",
       "           -7.32405424e-01],\n",
       "          [-7.20789313e-01, -6.33605957e-01, -6.68586254e-01,\n",
       "           -7.79566288e-01]],\n",
       " \n",
       "         [[ 1.26052380e-01, -1.79089355e+00, -5.97414970e-02,\n",
       "           -3.01822424e-01],\n",
       "          [ 1.26578808e-01, -1.66516113e+00,  2.13458061e-01,\n",
       "           -1.53422594e-01],\n",
       "          [-4.51315403e-01, -4.53186035e-01,  5.87536335e-01,\n",
       "           -9.36836004e-02],\n",
       "          ...,\n",
       "          [ 4.12894726e-01,  9.30541992e-01, -4.09183025e-01,\n",
       "           -1.73765302e+00],\n",
       "          [ 1.66052818e-01,  4.48760986e-01, -1.08258724e-01,\n",
       "           -1.34720087e+00],\n",
       "          [ 1.99999809e-02, -1.78027344e+00, -1.45499706e-01,\n",
       "           -6.59526825e-01]],\n",
       " \n",
       "         ...,\n",
       " \n",
       "         [[ 2.51579285e-01,  0.00000000e+00, -1.18164647e+00,\n",
       "           -2.52230048e+00],\n",
       "          [ 0.00000000e+00,  0.00000000e+00, -1.12897396e+00,\n",
       "           -4.00558472e-01],\n",
       "          [ 0.00000000e+00,  0.00000000e+00, -6.94300890e-01,\n",
       "            3.56952429e-01],\n",
       "          ...,\n",
       "          [ 3.42631340e-01,  1.50390625e-01, -3.22926426e+00,\n",
       "           -4.83630943e+00],\n",
       "          [ 2.22631454e-01, -1.61743164e-02, -2.65799928e+00,\n",
       "           -5.96854973e+00],\n",
       "          [ 0.00000000e+00,  0.00000000e+00, -1.92364085e+00,\n",
       "           -5.00971127e+00]],\n",
       " \n",
       "         [[ 5.00011444e-03,  0.00000000e+00, -2.70853519e-01,\n",
       "           -3.61483169e+00],\n",
       "          [ 4.76842880e-01,  8.38989258e-01, -5.22343874e-01,\n",
       "           -1.28864336e+00],\n",
       "          [-3.80789757e-01, -4.12841797e-01,  2.52004862e-01,\n",
       "           -6.65311813e-01],\n",
       "          ...,\n",
       "          [ 3.91579628e-01,  1.86523438e-01,  8.31910133e-01,\n",
       "           -2.99777555e+00],\n",
       "          [ 4.78684425e-01,  2.28912354e-01,  9.27110910e-01,\n",
       "           -4.14153862e+00],\n",
       "          [ 0.00000000e+00,  0.00000000e+00,  1.79714918e-01,\n",
       "           -4.27661705e+00]],\n",
       " \n",
       "         [[ 3.85789871e-01,  6.82983398e-02,  1.45267105e+00,\n",
       "           -2.30822372e+00],\n",
       "          [ 0.00000000e+00, -1.80572510e-01,  3.96583140e-01,\n",
       "           -1.42930365e+00],\n",
       "          [ 0.00000000e+00,  0.00000000e+00,  3.57507706e-01,\n",
       "           -1.25771213e+00],\n",
       "          ...,\n",
       "          [ 1.23683929e-01, -5.20202637e-01,  3.04706669e+00,\n",
       "           -1.85845113e+00],\n",
       "          [ 3.50789070e-01, -1.25671387e-01,  2.73014188e+00,\n",
       "           -2.40604901e+00],\n",
       "          [ 2.43683815e-01,  3.53393555e-01,  1.96603727e+00,\n",
       "           -1.97350812e+00]]],\n",
       " \n",
       " \n",
       "        [[[ 4.47368324e-02, -1.81091309e-01, -4.28058004e+00,\n",
       "           -8.55593204e-01],\n",
       "          [ 7.18421042e-02, -1.79016113e-01, -4.20074368e+00,\n",
       "           -5.88192582e-01],\n",
       "          [ 1.11052625e-01,  3.19824219e-02, -3.46292877e+00,\n",
       "           -2.03874826e-01],\n",
       "          ...,\n",
       "          [-1.99210525e-01, -8.12591553e-01, -3.22078538e+00,\n",
       "            7.09581375e-01],\n",
       "          [-5.52368402e-01, -9.07836914e-01, -3.37157607e+00,\n",
       "            1.49259210e-01],\n",
       "          [ 3.89473587e-02, -3.36151123e-01, -3.77304316e+00,\n",
       "           -5.37834406e-01]],\n",
       " \n",
       "         [[-2.98684120e-01, -1.06994629e+00,  7.95593262e-02,\n",
       "           -1.15190411e+00],\n",
       "          [-2.52631426e-01, -9.84039307e-01, -8.84141922e-01,\n",
       "           -1.58869219e+00],\n",
       "          [-3.21315765e-01, -1.38897705e+00, -1.58808231e+00,\n",
       "           -1.09968996e+00],\n",
       "          ...,\n",
       "          [-6.69736862e-01, -6.57806396e-01,  1.16326523e+00,\n",
       "           -6.56626225e-01],\n",
       "          [-5.42894602e-01, -7.03918457e-01,  9.03772831e-01,\n",
       "           -7.57739544e-01],\n",
       "          [-7.24473476e-01, -8.90258789e-01,  6.02614403e-01,\n",
       "           -8.01916122e-01]],\n",
       " \n",
       "         [[-3.77894402e-01, -2.00671387e+00,  9.54028130e-01,\n",
       "           -1.07790780e+00],\n",
       "          [ 2.18420029e-02, -1.64663696e+00,  5.35133362e-01,\n",
       "           -1.25038338e+00],\n",
       "          [ 1.01052284e-01, -4.91455078e-01,  6.40269279e-01,\n",
       "           -1.32782722e+00],\n",
       "          ...,\n",
       "          [-3.15761566e-03,  5.46356201e-01,  1.65034771e+00,\n",
       "            3.86641741e-01],\n",
       "          [ 1.13153458e-02,  9.47021484e-01,  1.21784067e+00,\n",
       "           -2.48504639e-01],\n",
       "          [-2.82895088e-01, -1.68109131e+00,  1.12946749e+00,\n",
       "           -7.21245766e-01]],\n",
       " \n",
       "         ...,\n",
       " \n",
       "         [[ 4.44474220e-01,  0.00000000e+00, -2.12836027e+00,\n",
       "            8.80884647e-01],\n",
       "          [ 0.00000000e+00,  0.00000000e+00, -1.15635562e+00,\n",
       "           -2.84832001e-01],\n",
       "          [ 0.00000000e+00,  0.00000000e+00,  2.63062239e-01,\n",
       "           -7.22412586e-01],\n",
       "          ...,\n",
       "          [ 4.93947029e-01,  2.38372803e-01, -2.63767815e+00,\n",
       "            3.60784769e+00],\n",
       "          [ 3.62368584e-01,  3.85437012e-02, -2.84452438e+00,\n",
       "            1.72946620e+00],\n",
       "          [ 0.00000000e+00,  0.00000000e+00, -2.77180505e+00,\n",
       "            1.70976329e+00]],\n",
       " \n",
       "         [[ 3.68684769e-01,  0.00000000e+00,  1.65110254e+00,\n",
       "            2.06006813e+00],\n",
       "          [ 7.95000076e-01,  8.75762939e-01,  2.84731054e+00,\n",
       "            4.60951090e-01],\n",
       "          [ 8.25263023e-01, -1.65039062e-01,  2.94349217e+00,\n",
       "           -5.75794935e-01],\n",
       "          ...,\n",
       "          [ 4.61316109e-01,  3.22204590e-01,  8.19605350e-01,\n",
       "            6.36981726e+00],\n",
       "          [ 5.65262794e-01,  2.75970459e-01,  1.22444820e+00,\n",
       "            4.46875048e+00],\n",
       "          [ 0.00000000e+00,  0.00000000e+00,  9.88727331e-01,\n",
       "            2.48146629e+00]],\n",
       " \n",
       "         [[ 7.32105255e-01,  3.51226807e-01,  4.80911446e+00,\n",
       "            3.32781410e+00],\n",
       "          [ 0.00000000e+00, -2.39868164e-02,  4.71607065e+00,\n",
       "            1.30353856e+00],\n",
       "          [ 0.00000000e+00,  0.00000000e+00,  3.93698263e+00,\n",
       "            4.09342766e-01],\n",
       "          ...,\n",
       "          [ 7.84206390e-02, -3.35815430e-01,  4.25505590e+00,\n",
       "            6.16688156e+00],\n",
       "          [ 4.71578598e-01,  2.81372070e-02,  5.06282520e+00,\n",
       "            5.99895573e+00],\n",
       "          [ 4.09210205e-01,  4.26147461e-01,  4.83081150e+00,\n",
       "            4.45393848e+00]]],\n",
       " \n",
       " \n",
       "        [[[ 4.13157940e-01, -1.41906738e-01, -2.55960941e-01,\n",
       "           -4.36027586e-01],\n",
       "          [ 4.33420956e-01, -1.58142090e-01, -1.85582638e-01,\n",
       "           -1.86766505e-01],\n",
       "          [ 6.63157940e-01,  5.88378906e-02,  2.60972977e-02,\n",
       "           -1.49131894e-01],\n",
       "          ...,\n",
       "          [-7.36842155e-02, -6.90063477e-01,  9.79619503e-01,\n",
       "           -1.72459781e-01],\n",
       "          [-4.03421044e-01, -8.35998535e-01,  3.17883015e-01,\n",
       "           -4.46921051e-01],\n",
       "          [ 6.65789843e-02, -3.21350098e-01, -1.64004803e-01,\n",
       "           -6.18865609e-01]],\n",
       " \n",
       "         [[-7.44999886e-01, -1.12121582e+00,  2.74780655e+00,\n",
       "           -1.12246382e+00],\n",
       "          [-3.85789633e-01, -1.30075073e+00,  2.29041958e+00,\n",
       "           -6.70348883e-01],\n",
       "          [-4.34999943e-01, -1.24792480e+00,  1.85818386e+00,\n",
       "           -6.24521732e-01],\n",
       "          ...,\n",
       "          [-7.81052589e-01, -7.68005371e-01,  3.80689049e+00,\n",
       "           -1.44723320e+00],\n",
       "          [-8.24999809e-01, -8.32611084e-01,  3.74421787e+00,\n",
       "           -1.32514548e+00],\n",
       "          [-1.02763152e+00, -7.25067139e-01,  3.19027138e+00,\n",
       "           -1.43039751e+00]],\n",
       " \n",
       "         [[-9.66578484e-01, -2.11926270e+00,  1.31965351e+00,\n",
       "            7.21093774e-01],\n",
       "          [-3.81579399e-01, -1.49569702e+00,  1.36802483e+00,\n",
       "            3.50701451e-01],\n",
       "          [ 8.34207535e-02, -6.23138428e-01,  1.17145920e+00,\n",
       "            2.22594738e-02],\n",
       "          ...,\n",
       "          [-8.59736443e-01, -2.37182617e-01,  1.05831718e+00,\n",
       "           -5.22305727e-01],\n",
       "          [-9.81578827e-01,  6.27410889e-01,  1.42958164e+00,\n",
       "            2.16182470e-01],\n",
       "          [-9.56579208e-01, -8.87359619e-01,  1.36167812e+00,\n",
       "            3.74369502e-01]],\n",
       " \n",
       "         ...,\n",
       " \n",
       "         [[-1.23682022e-02,  0.00000000e+00, -2.06249332e+00,\n",
       "           -2.45585203e+00],\n",
       "          [ 0.00000000e+00,  0.00000000e+00, -1.70454860e+00,\n",
       "           -1.63397253e+00],\n",
       "          [ 0.00000000e+00,  0.00000000e+00, -6.21044159e-01,\n",
       "           -1.04860246e+00],\n",
       "          ...,\n",
       "          [ 4.61841583e-01,  4.87091064e-01, -3.91898441e+00,\n",
       "            4.88817930e-01],\n",
       "          [ 2.52368927e-01,  1.65985107e-01, -3.30754256e+00,\n",
       "           -6.91976786e-01],\n",
       "          [ 0.00000000e+00,  0.00000000e+00, -2.32022572e+00,\n",
       "           -1.77930331e+00]],\n",
       " \n",
       "         [[ 2.03684330e-01,  0.00000000e+00, -4.82166290e-01,\n",
       "           -1.60928357e+00],\n",
       "          [ 5.83684444e-01,  9.39941406e-01, -1.11943483e-01,\n",
       "           -2.04070306e+00],\n",
       "          [ 6.72368526e-01,  4.69879150e-01, -3.73933315e-02,\n",
       "           -1.44014537e+00],\n",
       "          ...,\n",
       "          [ 3.71842384e-01,  4.03350830e-01, -1.01254034e+00,\n",
       "            1.53586102e+00],\n",
       "          [ 4.49737549e-01,  2.61413574e-01, -8.82884979e-01,\n",
       "            3.40988636e-01],\n",
       "          [ 0.00000000e+00,  0.00000000e+00, -7.17212200e-01,\n",
       "           -1.51904750e+00]],\n",
       " \n",
       "         [[ 7.44210243e-01,  4.40246582e-01,  2.34482956e+00,\n",
       "           -7.93187857e-01],\n",
       "          [ 0.00000000e+00,  1.58996582e-01,  2.30075073e+00,\n",
       "           -6.68624401e-01],\n",
       "          [ 0.00000000e+00,  0.00000000e+00,  1.98214126e+00,\n",
       "           -4.17098880e-01],\n",
       "          ...,\n",
       "          [ 6.57939911e-03, -3.27697754e-01,  2.35805845e+00,\n",
       "            1.88238287e+00],\n",
       "          [ 2.99736977e-01, -7.87963867e-02,  2.31363273e+00,\n",
       "            1.87997103e+00],\n",
       "          [ 3.98947716e-01,  2.50030518e-01,  2.42756414e+00,\n",
       "            2.43726492e-01]]],\n",
       " \n",
       " \n",
       "        ...,\n",
       " \n",
       " \n",
       "        [[[-1.68420672e-02, -5.24597168e-02,  3.19425440e+00,\n",
       "           -4.13461596e-01],\n",
       "          [-3.26315761e-02, -5.29174805e-02,  2.67971611e+00,\n",
       "            4.50822324e-01],\n",
       "          [-4.81579304e-02,  6.65283203e-03,  2.42741251e+00,\n",
       "            9.41919208e-01],\n",
       "          ...,\n",
       "          [-3.94736826e-02, -3.50067139e-01,  5.04961109e+00,\n",
       "           -1.36065340e+00],\n",
       "          [-3.11315775e-01, -2.71087646e-01,  4.41866970e+00,\n",
       "           -1.12902331e+00],\n",
       "          [-1.08157873e-01, -9.58862305e-02,  3.91075659e+00,\n",
       "           -8.78569484e-01]],\n",
       " \n",
       "         [[-1.85263157e-01, -3.99414062e-01,  2.93325233e+00,\n",
       "            7.21150994e-01],\n",
       "          [-4.69736695e-01, -5.77239990e-01,  2.73925400e+00,\n",
       "            4.56615210e-01],\n",
       "          [-5.32894731e-01, -1.03079224e+00,  2.65082645e+00,\n",
       "            4.39653158e-01],\n",
       "          ...,\n",
       "          [-1.55526400e-01, -6.61743164e-01,  3.18811989e+00,\n",
       "           -1.99114084e-01],\n",
       "          [-1.98684216e-01, -5.14587402e-01,  3.29487467e+00,\n",
       "            7.26958513e-02],\n",
       "          [-2.12631583e-01, -4.52117920e-01,  3.20994711e+00,\n",
       "            5.66434741e-01]],\n",
       " \n",
       "         [[-2.37368584e-01, -1.23114014e+00,  7.43442059e-01,\n",
       "            8.65303695e-01],\n",
       "          [-5.73687553e-02, -1.29977417e+00,  1.25734043e+00,\n",
       "            9.81657386e-01],\n",
       "          [ 7.78951645e-02, -1.06622314e+00,  1.43959999e+00,\n",
       "            1.33657122e+00],\n",
       "          ...,\n",
       "          [ 2.78949738e-02,  2.69561768e-01, -3.00680542e+00,\n",
       "            1.70363164e+00],\n",
       "          [ 1.82631493e-01,  6.19873047e-01, -1.70457220e+00,\n",
       "            1.60220695e+00],\n",
       "          [ 6.42108917e-02, -1.00546265e+00, -3.84854317e-01,\n",
       "            1.15755749e+00]],\n",
       " \n",
       "         ...,\n",
       " \n",
       "         [[ 3.66052628e-01,  0.00000000e+00,  6.25233173e-01,\n",
       "            2.14318842e-01],\n",
       "          [ 0.00000000e+00,  0.00000000e+00,  6.41052723e-02,\n",
       "            7.51386583e-01],\n",
       "          [ 0.00000000e+00,  0.00000000e+00, -4.43148613e-02,\n",
       "            5.84040880e-01],\n",
       "          ...,\n",
       "          [-4.68946457e-01,  2.32147217e-01,  1.48597574e+00,\n",
       "            5.76332808e-01],\n",
       "          [-4.20524597e-01,  1.96319580e-01,  1.58568835e+00,\n",
       "            8.39273810e-01],\n",
       "          [ 0.00000000e+00,  0.00000000e+00,  1.18583441e+00,\n",
       "            2.11802602e-01]],\n",
       " \n",
       "         [[-3.33683968e-01,  0.00000000e+00,  1.03978705e+00,\n",
       "            1.45507038e+00],\n",
       "          [ 2.80261993e-01,  3.82080078e-02,  9.80618954e-01,\n",
       "            1.28649318e+00],\n",
       "          [-3.53420258e-01, -4.25445557e-01,  6.49126053e-01,\n",
       "            8.26218963e-01],\n",
       "          ...,\n",
       "          [ 1.17895126e-01,  3.76647949e-01,  8.79117727e-01,\n",
       "           -5.47166467e-01],\n",
       "          [ 8.86840820e-02,  2.06390381e-01,  1.26388645e+00,\n",
       "            5.49802065e-01],\n",
       "          [ 0.00000000e+00,  0.00000000e+00,  1.07171702e+00,\n",
       "            1.28606963e+00]],\n",
       " \n",
       "         [[ 2.10262299e-01,  3.83819580e-01,  4.18062806e-01,\n",
       "            4.79319334e-01],\n",
       "          [ 0.00000000e+00,  3.19946289e-01,  6.87385321e-01,\n",
       "            9.32486355e-01],\n",
       "          [ 0.00000000e+00,  0.00000000e+00,  6.50850713e-01,\n",
       "            6.87677085e-01],\n",
       "          ...,\n",
       "          [ 1.78157806e-01,  2.35565186e-01, -2.67061281e+00,\n",
       "           -3.85452056e+00],\n",
       "          [ 4.95526314e-01,  2.73162842e-01, -1.51895523e+00,\n",
       "           -2.20136905e+00],\n",
       "          [ 5.59999466e-01,  4.23583984e-01, -4.15149331e-01,\n",
       "           -4.86206770e-01]]],\n",
       " \n",
       " \n",
       "        [[[ 1.93157911e-01,  7.59887695e-03,  1.56758785e+00,\n",
       "           -1.35851943e+00],\n",
       "          [ 3.23947370e-01, -5.06286621e-02,  1.36440277e+00,\n",
       "           -7.20372915e-01],\n",
       "          [ 2.44736850e-01, -1.09039307e-01,  8.61299515e-01,\n",
       "           -4.60835934e-01],\n",
       "          ...,\n",
       "          [ 2.05263153e-01, -1.85760498e-01,  3.80363798e+00,\n",
       "           -2.38086081e+00],\n",
       "          [-3.65789235e-02, -7.25097656e-02,  2.78427792e+00,\n",
       "           -2.25499558e+00],\n",
       "          [-4.97368574e-02,  3.47595215e-02,  1.95032692e+00,\n",
       "           -1.93376625e+00]],\n",
       " \n",
       "         [[ 1.07893944e-02, -5.11505127e-01,  1.21075916e+00,\n",
       "           -6.50735259e-01],\n",
       "          [ 6.47368431e-02, -5.02624512e-01,  9.97838974e-01,\n",
       "           -4.81858253e-02],\n",
       "          [-1.06315851e-01, -8.08563232e-01,  3.84979248e-01,\n",
       "            3.80080700e-01],\n",
       "          ...,\n",
       "          [ 4.26316261e-02, -5.78674316e-01,  3.65432835e+00,\n",
       "           -7.42217243e-01],\n",
       "          [ 7.26315975e-02, -5.65338135e-01,  2.78702211e+00,\n",
       "           -6.55709028e-01],\n",
       "          [ 4.47368622e-02, -6.39129639e-01,  1.98525715e+00,\n",
       "           -7.43821502e-01]],\n",
       " \n",
       "         [[-1.25263214e-01, -1.20465088e+00,  2.29823112e-01,\n",
       "            8.16662908e-01],\n",
       "          [-7.36842155e-02, -1.12881470e+00, -4.83805656e-01,\n",
       "            1.48959327e+00],\n",
       "          [ 1.58157825e-01, -8.98315430e-01, -7.30597496e-01,\n",
       "            5.94021559e-01],\n",
       "          ...,\n",
       "          [ 1.05526447e-01, -2.29736328e-01,  1.21229601e+00,\n",
       "            1.44609654e+00],\n",
       "          [ 2.28947163e-01,  4.82299805e-01,  7.75611401e-01,\n",
       "            1.74408650e+00],\n",
       "          [-4.89478111e-02, -1.32107544e+00,  4.08730507e-01,\n",
       "            1.08138394e+00]],\n",
       " \n",
       "         ...,\n",
       " \n",
       "         [[ 1.46051407e-01,  0.00000000e+00,  2.19505382e+00,\n",
       "            1.51252651e+00],\n",
       "          [ 0.00000000e+00,  0.00000000e+00,  9.21561718e-01,\n",
       "            1.63287854e+00],\n",
       "          [ 0.00000000e+00,  0.00000000e+00,  2.84726262e-01,\n",
       "            1.05561626e+00],\n",
       "          ...,\n",
       "          [-2.09472656e-01,  1.55395508e-01,  3.87145948e+00,\n",
       "            1.21924567e+00],\n",
       "          [-4.38158035e-01,  1.06353760e-01,  3.49987149e+00,\n",
       "            4.44920659e-01],\n",
       "          [ 0.00000000e+00,  0.00000000e+00,  3.41569734e+00,\n",
       "            3.29154253e-01]],\n",
       " \n",
       "         [[ 7.31582642e-02,  0.00000000e+00, -3.75181675e-01,\n",
       "            2.85840034e-01],\n",
       "          [ 6.80788994e-01, -9.64355469e-02, -9.55807686e-01,\n",
       "            1.24849844e+00],\n",
       "          [ 1.98158264e-01, -5.92712402e-01, -1.34735584e+00,\n",
       "            1.12587047e+00],\n",
       "          ...,\n",
       "          [ 5.02634048e-02,  2.73193359e-01,  1.19890308e+00,\n",
       "            6.48906946e-01],\n",
       "          [ 1.11578941e-01,  8.16040039e-02,  3.68834972e-01,\n",
       "            7.96039104e-01],\n",
       "          [ 0.00000000e+00,  0.00000000e+00, -2.79268742e-01,\n",
       "            4.04913664e-01]],\n",
       " \n",
       "         [[ 6.79737091e-01,  3.15521240e-01, -3.75575399e+00,\n",
       "            7.82651901e-01],\n",
       "          [ 0.00000000e+00,  3.45825195e-01, -4.54548550e+00,\n",
       "            8.99607182e-01],\n",
       "          [ 0.00000000e+00,  0.00000000e+00, -4.73581600e+00,\n",
       "           -3.55229378e-02],\n",
       "          ...,\n",
       "          [ 7.14473724e-01,  3.73352051e-01, -1.84593368e+00,\n",
       "            8.60818148e-01],\n",
       "          [ 5.37894249e-01,  3.58856201e-01, -2.87966537e+00,\n",
       "            1.35446668e+00],\n",
       "          [ 6.57894135e-01,  3.87176514e-01, -3.37094045e+00,\n",
       "            6.98777199e-01]]],\n",
       " \n",
       " \n",
       "        [[[ 9.49999690e-02,  1.25457764e-01, -1.13663673e-02,\n",
       "            5.13547063e-01],\n",
       "          [ 2.24736869e-01,  3.09753418e-02, -5.86574554e-01,\n",
       "            9.25824046e-01],\n",
       "          [ 3.17894757e-01, -7.29370117e-03, -9.67745781e-01,\n",
       "            1.23897779e+00],\n",
       "          ...,\n",
       "          [ 3.49736810e-01, -1.04278564e-01,  1.80191898e+00,\n",
       "            5.49883485e-01],\n",
       "          [ 1.03157908e-01,  6.80541992e-03,  1.47763014e+00,\n",
       "            1.09518385e+00],\n",
       "          [ 5.18420935e-02,  1.37786865e-01,  7.72809982e-01,\n",
       "            8.14604163e-01]],\n",
       " \n",
       "         [[-2.10526228e-01, -8.16955566e-01,  1.99273396e+00,\n",
       "            7.74042010e-01],\n",
       "          [-1.75263166e-01, -5.57189941e-01,  1.72421646e+00,\n",
       "            8.61226439e-01],\n",
       "          [-2.63684273e-01, -6.86767578e-01,  1.37609100e+00,\n",
       "            7.89011955e-01],\n",
       "          ...,\n",
       "          [ 1.43684149e-01, -5.24078369e-01,  2.51524925e+00,\n",
       "            8.60639930e-01],\n",
       "          [ 1.45263195e-01, -4.81536865e-01,  2.44627047e+00,\n",
       "            7.13538766e-01],\n",
       "          [-1.87105298e-01, -7.56469727e-01,  2.32480145e+00,\n",
       "            5.44540882e-01]],\n",
       " \n",
       "         [[-6.84737206e-01, -1.39248657e+00,  3.01697826e+00,\n",
       "            7.31146574e-01],\n",
       "          [-4.95789528e-01, -1.04037476e+00,  2.75853300e+00,\n",
       "            7.62207627e-01],\n",
       "          [-5.42631626e-01, -1.01617432e+00,  2.60187626e+00,\n",
       "            1.21131182e-01],\n",
       "          ...,\n",
       "          [-9.52630043e-02, -7.33276367e-01,  2.85295916e+00,\n",
       "           -1.71344995e-01],\n",
       "          [-1.06842041e-01,  1.31378174e-01,  3.39941931e+00,\n",
       "           -8.59925747e-02],\n",
       "          [-4.33684349e-01, -1.35299683e+00,  3.30139399e+00,\n",
       "            4.23360229e-01]],\n",
       " \n",
       "         ...,\n",
       " \n",
       "         [[ 5.56579590e-01,  0.00000000e+00,  3.42711973e+00,\n",
       "            2.99424887e-01],\n",
       "          [ 0.00000000e+00,  0.00000000e+00,  2.80891776e+00,\n",
       "            2.10981369e-01],\n",
       "          [ 0.00000000e+00,  0.00000000e+00,  3.54248285e+00,\n",
       "           -9.52732563e-02],\n",
       "          ...,\n",
       "          [ 5.39474487e-02,  2.08374023e-01,  5.56313038e-01,\n",
       "            2.42968273e+00],\n",
       "          [-1.78684235e-01,  1.66046143e-01,  2.05020714e+00,\n",
       "            2.19948626e+00],\n",
       "          [ 0.00000000e+00,  0.00000000e+00,  3.01689768e+00,\n",
       "            1.05918479e+00]],\n",
       " \n",
       "         [[ 2.10000038e-01,  0.00000000e+00,  4.56444550e+00,\n",
       "            5.19688129e-02],\n",
       "          [ 6.91842079e-01, -3.34777832e-02,  4.99482059e+00,\n",
       "           -1.22770691e+00],\n",
       "          [ 4.27894592e-01, -3.32519531e-01,  3.38037109e+00,\n",
       "           -8.69157314e-01],\n",
       "          ...,\n",
       "          [ 2.63156891e-02,  2.51556396e-01,  2.69084978e+00,\n",
       "            8.63641262e-01],\n",
       "          [ 5.52635193e-02,  1.90460205e-01,  3.41230989e+00,\n",
       "            5.53299665e-01],\n",
       "          [ 0.00000000e+00,  0.00000000e+00,  3.61470485e+00,\n",
       "            8.68743658e-01]],\n",
       " \n",
       "         [[ 4.35525894e-01,  2.31262207e-01,  1.67988396e+00,\n",
       "           -5.74257135e-01],\n",
       "          [ 0.00000000e+00,  4.33074951e-01,  5.71505129e-01,\n",
       "           -8.14160109e-01],\n",
       "          [ 0.00000000e+00,  0.00000000e+00,  3.94152373e-01,\n",
       "           -1.30538464e+00],\n",
       "          ...,\n",
       "          [ 4.20525551e-01,  4.10430908e-01,  1.23403180e+00,\n",
       "           -3.29891801e-01],\n",
       "          [ 2.88683891e-01,  4.76654053e-01,  1.97561681e+00,\n",
       "           -7.13504910e-01],\n",
       "          [ 3.13158035e-01,  4.05426025e-01,  2.08055043e+00,\n",
       "           -6.82345152e-01]]]])}"
      ]
     },
     "execution_count": 85,
     "metadata": {},
     "output_type": "execute_result"
    }
   ],
   "source": [
    "test_path = 'D:/ProgramData/DockerDesktop/AI_Earth/tcdata/enso_round1_test_20210201/'\n",
    "\n",
    "### 1. 测试数据读取\n",
    "files = os.listdir(test_path)\n",
    "# files\n",
    "test_feas_dict = {}\n",
    "for file in files:\n",
    "    test_feas_dict[file] = np.load(test_path + file)\n",
    "test_feas_dict"
   ]
  },
  {
   "cell_type": "code",
   "execution_count": 100,
   "metadata": {},
   "outputs": [
    {
     "name": "stdout",
     "output_type": "stream",
     "text": [
      "(12, 24, 72, 4)\n"
     ]
    }
   ],
   "source": [
    "test_predicts_dict = {}\n",
    "for file_name,val in test_feas_dict.items():\n",
    "#     val= pd.Series(val)\n",
    "#     val=list(val)\n",
    "    print(val.shape)\n",
    "#     print(type(val))"
   ]
  },
  {
   "cell_type": "code",
   "execution_count": 103,
   "metadata": {},
   "outputs": [
    {
     "data": {
      "text/plain": [
       "{'test_0144-01-12.npy': array([ 0.00099962,  0.00099973,  0.00099978,  0.00099975,  0.00099953,\n",
       "        -0.00098827, -0.00099919, -0.00099904,  0.00095085,  0.00099896,\n",
       "         0.00099918,  0.00099922,  0.00099963,  0.00099973,  0.00099977,\n",
       "         0.00099974,  0.00099952,  0.00095461, -0.00099903, -0.00099871,\n",
       "         0.00099708,  0.00099925,  0.0009994 ,  0.00099946], dtype=float32)}"
      ]
     },
     "execution_count": 103,
     "metadata": {},
     "output_type": "execute_result"
    }
   ],
   "source": [
    "test_predicts_dict"
   ]
  },
  {
   "cell_type": "code",
   "execution_count": 107,
   "metadata": {},
   "outputs": [
    {
     "name": "stdout",
     "output_type": "stream",
     "text": [
      "(12, 24, 72, 4)\n"
     ]
    },
    {
     "data": {
      "text/plain": [
       "{'test_0144-01-12.npy': array([ 0.00099962,  0.00099973,  0.00099978,  0.00099975,  0.00099953,\n",
       "        -0.00098827, -0.00099919, -0.00099904,  0.00095085,  0.00099896,\n",
       "         0.00099918,  0.00099922,  0.00099963,  0.00099973,  0.00099977,\n",
       "         0.00099974,  0.00099952,  0.00095461, -0.00099903, -0.00099871,\n",
       "         0.00099708,  0.00099925,  0.0009994 ,  0.00099946], dtype=float32)}"
      ]
     },
     "execution_count": 107,
     "metadata": {},
     "output_type": "execute_result"
    }
   ],
   "source": [
    "### 2. 结果预测\n",
    "test_predicts_dict = {}\n",
    "for file_name,val in test_feas_dict.items():\n",
    "#     print(file_name,val)\n",
    "#     val = np.array(val)\n",
    "#     val=list(val)\n",
    "    print(val.shape)\n",
    "    model.predict(val)\n",
    "    test_predicts_dict[file_name] = model.predict(val).reshape(-1,)\n",
    "test_predicts_dict\n",
    "#     test_predicts_dict[file_name] = model.predict(val.reshape([-1,12])[0,:])  # 这里要注释掉"
   ]
  },
  {
   "cell_type": "code",
   "execution_count": 108,
   "metadata": {},
   "outputs": [],
   "source": [
    "### 3.存储预测结果\n",
    "for file_name,val in test_predicts_dict.items(): \n",
    "    np.save('D:/ProgramData/DockerDesktop/AI_Earth/model_baseline/result/' + file_name,val)"
   ]
  },
  {
   "cell_type": "markdown",
   "metadata": {},
   "source": [
    "### 打包目录为zip文件（未压缩）"
   ]
  },
  {
   "cell_type": "code",
   "execution_count": 110,
   "metadata": {},
   "outputs": [
    {
     "name": "stdout",
     "output_type": "stream",
     "text": [
      "<generator object walk at 0x000001A9A4C76660>\n",
      "D:/ProgramData/DockerDesktop/AI_Earth/model_baseline/result/ []\n"
     ]
    }
   ],
   "source": [
    "def make_zip(source_dir='D:/ProgramData/DockerDesktop/AI_Earth/model_baseline/result/', output_filename = 'result.zip'):\n",
    "    zipf = zipfile.ZipFile(output_filename, 'w')\n",
    "    pre_len = len(os.path.dirname(source_dir))\n",
    "    source_dirs = os.walk(source_dir)\n",
    "    print(source_dirs)\n",
    "    for parent, dirnames, filenames in source_dirs:\n",
    "        print(parent, dirnames)\n",
    "        for filename in filenames:\n",
    "            if'.npy'not in filename:\n",
    "                continue\n",
    "            pathfile = os.path.join(parent, filename)\n",
    "            arcname = pathfile[pre_len:].strip(os.path.sep)   #相对路径\n",
    "            zipf.write(pathfile, arcname)\n",
    "    zipf.close()\n",
    "make_zip()"
   ]
  },
  {
   "cell_type": "code",
   "execution_count": null,
   "metadata": {},
   "outputs": [],
   "source": []
  }
 ],
 "metadata": {
  "kernelspec": {
   "display_name": "Python 3",
   "language": "python",
   "name": "python3"
  },
  "language_info": {
   "codemirror_mode": {
    "name": "ipython",
    "version": 3
   },
   "file_extension": ".py",
   "mimetype": "text/x-python",
   "name": "python",
   "nbconvert_exporter": "python",
   "pygments_lexer": "ipython3",
   "version": "3.8.3"
  }
 },
 "nbformat": 4,
 "nbformat_minor": 4
}
